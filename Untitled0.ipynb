{
  "nbformat": 4,
  "nbformat_minor": 0,
  "metadata": {
    "colab": {
      "provenance": [],
      "authorship_tag": "ABX9TyMSKl4h9exovydJgtq5I9wN",
      "include_colab_link": true
    },
    "kernelspec": {
      "name": "python3",
      "display_name": "Python 3"
    },
    "language_info": {
      "name": "python"
    }
  },
  "cells": [
    {
      "cell_type": "markdown",
      "metadata": {
        "id": "view-in-github",
        "colab_type": "text"
      },
      "source": [
        "<a href=\"https://colab.research.google.com/github/StevenUniverse19/FundProg202520/blob/main/Untitled0.ipynb\" target=\"_parent\"><img src=\"https://colab.research.google.com/assets/colab-badge.svg\" alt=\"Open In Colab\"/></a>"
      ]
    },
    {
      "cell_type": "markdown",
      "source": [
        "Introduccion a phyton\n",
        "\n",
        "Fundamentos de programcion\n",
        "\n",
        "Universidad Pontifia Bolivariana_ seccional monteria\n",
        "Fecha 29 de agosto de 2025\n",
        "presentado por Steven Jimenez\n",
        "en la siguiente actividad se exploraran los componentes de phyton"
      ],
      "metadata": {
        "id": "iZAeYIBQcBRz"
      }
    },
    {
      "cell_type": "code",
      "execution_count": null,
      "metadata": {
        "id": "kHgc1hDKbn7M"
      },
      "outputs": [],
      "source": [
        "# comentarios"
      ]
    },
    {
      "cell_type": "code",
      "source": [
        "#print\n",
        "#\n",
        "# la funcion print() se utiliza para imprimir un nombre en consola\n",
        "\n",
        "print (\"Hola Mundo\")"
      ],
      "metadata": {
        "colab": {
          "base_uri": "https://localhost:8080/"
        },
        "id": "5e_jVhrEdQg5",
        "outputId": "1f0a4343-4b81-43ca-dda3-0b2e294779a2"
      },
      "execution_count": null,
      "outputs": [
        {
          "output_type": "stream",
          "name": "stdout",
          "text": [
            "Hola Mundo\n"
          ]
        }
      ]
    },
    {
      "cell_type": "code",
      "source": [
        "# Variables\n",
        "\n",
        "# Se utilizan para \" almacenar datos en memoria. Es una referencia a la direccion en memoria donde se almacenan los datos\n",
        "\n",
        "name = \" Steven\n",
        "age = 19\n",
        "height = 1.73\n",
        "city = \"Montelibano\"\n",
        "is_sleeping= False\n",
        "print( name,age, height, city, is sleeping)"
      ],
      "metadata": {
        "id": "zfGFnJ-QfNjv"
      },
      "execution_count": null,
      "outputs": []
    },
    {
      "cell_type": "code",
      "source": [
        "# Calculos\n",
        "\n",
        "a = 5\n",
        "b = 2.3\n",
        "c = a + b\n",
        "d = a - b\n",
        "e = a * b\n",
        "f = a / b\n",
        "g = a % b\n",
        "h = a ** b\n",
        "print(c)\n",
        "print(d)\n",
        "print(e)\n",
        "print(f)\n",
        "print(g)\n",
        "print(h)"
      ],
      "metadata": {
        "colab": {
          "base_uri": "https://localhost:8080/"
        },
        "id": "oGm98768hZux",
        "outputId": "05bf72b0-24cc-43de-bfc7-03674616cde5"
      },
      "execution_count": null,
      "outputs": [
        {
          "output_type": "stream",
          "name": "stdout",
          "text": [
            "7.3\n",
            "2.7\n",
            "11.5\n",
            "2.173913043478261\n",
            "0.40000000000000036\n",
            "40.51641491731905\n"
          ]
        }
      ]
    },
    {
      "cell_type": "code",
      "source": [
        "#cambio de valores\n",
        "\n",
        " a = 5\n",
        " print(a)\n",
        " a = 10\n",
        " print(a)"
      ],
      "metadata": {
        "colab": {
          "base_uri": "https://localhost:8080/",
          "height": 106
        },
        "id": "JScXg6SKi4Gy",
        "outputId": "f2689ee4-0648-458a-c376-237767218af6"
      },
      "execution_count": null,
      "outputs": [
        {
          "output_type": "error",
          "ename": "IndentationError",
          "evalue": "unexpected indent (ipython-input-2804722143.py, line 3)",
          "traceback": [
            "\u001b[0;36m  File \u001b[0;32m\"/tmp/ipython-input-2804722143.py\"\u001b[0;36m, line \u001b[0;32m3\u001b[0m\n\u001b[0;31m    a = 5\u001b[0m\n\u001b[0m    ^\u001b[0m\n\u001b[0;31mIndentationError\u001b[0m\u001b[0;31m:\u001b[0m unexpected indent\n"
          ]
        }
      ]
    },
    {
      "cell_type": "code",
      "source": [
        "# Concatenaciom\n",
        "\n",
        "# Foncatenar consiste en unir texto ( o sumar datos de tipo de texto)\n",
        "\n",
        "firstname = \"Steven\"\n",
        "lastname = \"Jimenez\"\n",
        "fullname = firstname + \"\" + lastname\n",
        "print( fullname)"
      ],
      "metadata": {
        "colab": {
          "base_uri": "https://localhost:8080/"
        },
        "id": "RRVC3GkxjQta",
        "outputId": "ce9e6c3c-234e-4cc4-f905-8d97373b55e2"
      },
      "execution_count": null,
      "outputs": [
        {
          "output_type": "stream",
          "name": "stdout",
          "text": [
            "StevenJimenez\n"
          ]
        }
      ]
    },
    {
      "cell_type": "code",
      "source": [
        " # Incrementador ( +0, -=, *= ...)\n",
        "\n",
        " time = 0\n",
        " print(time)\n",
        " time += 1\n",
        " print(time)\n",
        " time += 2\n",
        " time -= 4\n",
        " print(time)\n",
        " time /= 4\n",
        " print(time)"
      ],
      "metadata": {
        "colab": {
          "base_uri": "https://localhost:8080/"
        },
        "id": "f8V3kAphkNGS",
        "outputId": "135815c2-983f-4a3d-eaf7-23c3b8b4a9e4"
      },
      "execution_count": null,
      "outputs": [
        {
          "output_type": "stream",
          "name": "stdout",
          "text": [
            "0\n",
            "1\n",
            "3\n",
            "-1\n",
            "-0.25\n"
          ]
        }
      ]
    },
    {
      "cell_type": "code",
      "source": [
        "# Promedio de creditos\n",
        "\n",
        "# Escriba un programa para calcular y mostrar el numero de creditos inscritos por 3 estudiantes y el promedio de creditos\n"
      ],
      "metadata": {
        "id": "xgrbBHZoqUkb"
      },
      "execution_count": null,
      "outputs": []
    }
  ]
}